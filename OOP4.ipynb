{
  "nbformat": 4,
  "nbformat_minor": 0,
  "metadata": {
    "colab": {
      "provenance": []
    },
    "kernelspec": {
      "name": "python3",
      "display_name": "Python 3"
    },
    "language_info": {
      "name": "python"
    }
  },
  "cells": [
    {
      "cell_type": "markdown",
      "source": [
        "# Python OOPs Question\n",
        ""
      ],
      "metadata": {
        "id": "-bwbQHXRGyHr"
      }
    },
    {
      "cell_type": "markdown",
      "source": [
        "ques1 : What is Object-Oriented Programming (OOP)?\n",
        "- OOP is a programming paradigm based on the concept of objects, which contain data (attributes) and methods (functions). It helps in structuring code for reusability, scalability, and maintainability.\n",
        "\n",
        "ques 2: What is a class in OOP?\n",
        " - A class is a blueprint for creating objects. It defines the structure (attributes) and behavior (methods) of the objects."
      ],
      "metadata": {
        "id": "Mm-ArYGKHDd9"
      }
    },
    {
      "cell_type": "code",
      "source": [
        "class Car:\n",
        "    def __init__(self, brand):\n",
        "        self.brand = brand\n"
      ],
      "metadata": {
        "id": "FgmoJlZGIXwI"
      },
      "execution_count": 1,
      "outputs": []
    },
    {
      "cell_type": "markdown",
      "source": [
        "Q 3: What is an object in OOP?\n",
        "- An object is an instance of a class. It has its own state and behavior defined by the class."
      ],
      "metadata": {
        "id": "iN18sB5zIclc"
      }
    },
    {
      "cell_type": "code",
      "source": [
        "my_car = Car(\"Toyota\")\n"
      ],
      "metadata": {
        "id": "ZfRYuPUnIiRP"
      },
      "execution_count": 2,
      "outputs": []
    },
    {
      "cell_type": "markdown",
      "source": [
        "4. Difference between Abstraction and Encapsulation.\n",
        " - Abstraction : Abstraction is the process of hiding complex implementation details and showing only the essential features of an object or system to the user.\n",
        "\n",
        "  Goal: To reduce complexity and allow the programmer to focus on interactions at a high level.\n",
        "\n",
        "Example :\n",
        "When you drive a car, you just need to use the steering wheel, accelerator, and brake. You don’t need to understand the internal working of the engine or transmission — that’s abstraction.\n",
        "\n",
        "Key Points:\n",
        "\n",
        "- Focuses on what an object does, not how it does it.\n",
        "\n",
        "- Achieved using abstract classes or interfaces.\n",
        "\n",
        "- Helps in designing a clear and simplified interface.\n",
        "\n",
        " -  Encapsulation :\n",
        "Encapsulation is the process of wrapping data (variables) and methods (functions) into a single unit (i.e., a class) and restricting access to some of the object's components.\n",
        "\n",
        " Goal:\n",
        "To protect the internal state of an object from unwanted or unauthorized access and modification.\n",
        "\n",
        "Example :\n",
        "In a banking system, your account balance should not be directly accessible or modifiable by other classes. Instead, access is controlled through methods like deposit() or withdraw() — that’s encapsulation.\n",
        "\n",
        "Key Points:\n",
        "\n",
        "- Focuses on how to protect data.\n",
        "\n",
        "- Achieved using access modifiers (public, private, protected).\n",
        "\n",
        "- Ensures data hiding and security."
      ],
      "metadata": {
        "id": "aor7az8JIlUn"
      }
    },
    {
      "cell_type": "markdown",
      "source": [
        " 5. What are dunder methods in Python?\n",
        "- Dunder methods (Double UNDERSCORE) like __init__, __str__, __repr__, __add__, etc., are special methods that allow you to define custom behavior for built-in operations.\n",
        "\n",
        "\n"
      ],
      "metadata": {
        "id": "1rvaKtJwJxAi"
      }
    },
    {
      "cell_type": "code",
      "source": [
        "def __str__(self):\n",
        "    return f\"{self.name}\""
      ],
      "metadata": {
        "id": "pI5CE3k4J_uR"
      },
      "execution_count": 3,
      "outputs": []
    },
    {
      "cell_type": "markdown",
      "source": [
        " 6. Explain inheritance in OOP ?\n",
        "\n",
        "- Inheritance allows a class (child) to inherit properties and methods from another class (parent), promoting code reuse."
      ],
      "metadata": {
        "id": "LokMvwtYKBe9"
      }
    },
    {
      "cell_type": "code",
      "source": [
        "class Animal:\n",
        "    def speak(self):\n",
        "        print(\"Animal speaks\")\n",
        "\n",
        "class Dog(Animal):\n",
        "    pass\n",
        "\n",
        "d = Dog()\n",
        "d.speak()  # Inherited from Animal\n"
      ],
      "metadata": {
        "colab": {
          "base_uri": "https://localhost:8080/"
        },
        "id": "37JfdiPNKNV2",
        "outputId": "abe00ec7-5d8e-4219-8c6c-cc09f7eeeb4e"
      },
      "execution_count": 4,
      "outputs": [
        {
          "output_type": "stream",
          "name": "stdout",
          "text": [
            "Animal speaks\n"
          ]
        }
      ]
    },
    {
      "cell_type": "markdown",
      "source": [
        "7. What is polymorphism in OOP?\n",
        "- Polymorphism allows different classes to have methods with the same name but different behavior.\n",
        "\n",
        "\n"
      ],
      "metadata": {
        "id": "2yGvCAPVKOuE"
      }
    },
    {
      "cell_type": "code",
      "source": [
        "class Bird:\n",
        "    def speak(self):\n",
        "        print(\"Chirp\")\n",
        "\n",
        "class Dog:\n",
        "    def speak(self):\n",
        "        print(\"Bark\")\n",
        "\n",
        "def make_sound(animal):\n",
        "    animal.speak()\n",
        "\n",
        "make_sound(Bird())  # Chirp\n",
        "make_sound(Dog())   # Bark"
      ],
      "metadata": {
        "colab": {
          "base_uri": "https://localhost:8080/"
        },
        "id": "-nb_iUdoKW5z",
        "outputId": "088a6224-9423-4c17-d089-97f8350d19c8"
      },
      "execution_count": 5,
      "outputs": [
        {
          "output_type": "stream",
          "name": "stdout",
          "text": [
            "Chirp\n",
            "Bark\n"
          ]
        }
      ]
    },
    {
      "cell_type": "markdown",
      "source": [
        " 8. How is encapsulation achieved in Python?\n",
        "- Encapsulation is done using private variables (prefixing with __) and using getter/setter methods.\n",
        "\n",
        "\n"
      ],
      "metadata": {
        "id": "6NRg7yQHKdKe"
      }
    },
    {
      "cell_type": "code",
      "source": [
        "class Account:\n",
        "    def __init__(self):\n",
        "        self.__balance = 0  # private variable\n",
        "\n",
        "    def get_balance(self):\n",
        "        return self.__balance"
      ],
      "metadata": {
        "id": "R3DsttoQKhxW"
      },
      "execution_count": 6,
      "outputs": []
    },
    {
      "cell_type": "markdown",
      "source": [
        "9. What is a constructor in Python?\n",
        "- A constructor is the __init__() method. It's called automatically when an object is created.\n",
        "\n",
        "\n"
      ],
      "metadata": {
        "id": "gIbx7Ll2Kj_u"
      }
    },
    {
      "cell_type": "code",
      "source": [
        "class Person:\n",
        "    def __init__(self, name):\n",
        "        self.name = name"
      ],
      "metadata": {
        "id": "KJ96JU0dKpqF"
      },
      "execution_count": 7,
      "outputs": []
    },
    {
      "cell_type": "markdown",
      "source": [
        "10. What are class and static methods in Python?\n",
        "-\n",
        "Class Method\t- \"@classmethod\"\t- Takes cls as the first argument, used to access/modify class state\n",
        "\n",
        "- Static Method -\t\"@staticmethod\"\tDoesn't take self or cls, behaves like a regular function inside a class"
      ],
      "metadata": {
        "id": "N7Nuxh5ELCuf"
      }
    },
    {
      "cell_type": "markdown",
      "source": [
        "11. What is method overloading in Python?\n",
        "- Python doesn’t support method overloading directly. You can use default arguments or *args to mimic it.\n",
        "\n"
      ],
      "metadata": {
        "id": "7Ofe4qnTLeZO"
      }
    },
    {
      "cell_type": "code",
      "source": [
        "class Demo:\n",
        "    def show(self, a=None, b=None):\n",
        "        if a and b:\n",
        "            print(a, b)\n",
        "        else:\n",
        "            print(\"Default\")"
      ],
      "metadata": {
        "id": "LpMa-s5uLlj3"
      },
      "execution_count": 8,
      "outputs": []
    },
    {
      "cell_type": "markdown",
      "source": [
        "12. What is method overriding in OOP?\n",
        "- Overriding means redefining a method in the child class that already exists in the parent class.\n"
      ],
      "metadata": {
        "id": "PjUokBgULsA7"
      }
    },
    {
      "cell_type": "code",
      "source": [
        "class A:\n",
        "    def greet(self):\n",
        "        print(\"Hello from A\")\n",
        "\n",
        "class B(A):\n",
        "    def greet(self):\n",
        "        print(\"Hello from B\")  # Overrides A's method"
      ],
      "metadata": {
        "id": "Cr2hdXZyLzQd"
      },
      "execution_count": 9,
      "outputs": []
    },
    {
      "cell_type": "markdown",
      "source": [
        "13. What is a property decorator in Python?\n",
        "- The @property decorator is used to define getter methods that can be accessed like attributes.\n",
        "\n"
      ],
      "metadata": {
        "id": "j5zAyl97OmEV"
      }
    },
    {
      "cell_type": "code",
      "source": [
        "class Person:\n",
        "    def __init__(self, age):\n",
        "        self._age = age\n",
        "\n",
        "    @property\n",
        "    def age(self):\n",
        "        return self._age"
      ],
      "metadata": {
        "id": "9RCdcLrqPRIy"
      },
      "execution_count": 10,
      "outputs": []
    },
    {
      "cell_type": "markdown",
      "source": [
        "14. Why is polymorphism important in OOP?\n",
        "- Polymorphism allows:\n",
        "\n",
        "   - Flexibility in code\n",
        "\n",
        "   - Reusability of interfaces\n",
        "\n",
        "   - Easier maintenance\n",
        "\n",
        "Allows writing functions/methods that work on objects of different types"
      ],
      "metadata": {
        "id": "nu1rn9PGPU_I"
      }
    },
    {
      "cell_type": "markdown",
      "source": [
        "15. What is an abstract class in Python?\n",
        "- An abstract class can't be instantiated. It is used as a template, and must be subclassed.\n",
        "\n"
      ],
      "metadata": {
        "id": "Foe7-ENuP6jS"
      }
    },
    {
      "cell_type": "code",
      "source": [
        "from abc import ABC, abstractmethod\n",
        "\n",
        "class Animal(ABC):\n",
        "    @abstractmethod\n",
        "    def speak(self):\n",
        "        pass"
      ],
      "metadata": {
        "id": "KfWCj94rQAkb"
      },
      "execution_count": 11,
      "outputs": []
    },
    {
      "cell_type": "markdown",
      "source": [
        "16. Advantages of OOP:\n",
        "- Code Reusability (Inheritance)\n",
        "\n",
        "- Modularity\n",
        "\n",
        "- Easy to maintain & debug\n",
        "\n",
        "- Scalability\n",
        "\n",
        "- Data hiding (Encapsulation)"
      ],
      "metadata": {
        "id": "rHHnw4kaQDXo"
      }
    },
    {
      "cell_type": "markdown",
      "source": [
        " 17. Difference between class variable and instance variable:\n",
        " - Class varible :\n",
        "\n",
        "1.   Shared across instances\n",
        "2.   Unique per instance\n",
        "\n",
        "- Instance variable:\n",
        "  - Inside class\n",
        "  - Inside __init__\n"
      ],
      "metadata": {
        "id": "I0YKhU9XQL33"
      }
    },
    {
      "cell_type": "markdown",
      "source": [
        "18. What is multiple inheritance in Python?\n",
        "- When a class inherits from more than one class."
      ],
      "metadata": {
        "id": "6x5TZSAFQwa6"
      }
    },
    {
      "cell_type": "code",
      "source": [
        "class A: pass\n",
        "class B: pass\n",
        "class C(A, B): pass\n"
      ],
      "metadata": {
        "id": "n6ZBm4HCQ0rC"
      },
      "execution_count": 12,
      "outputs": []
    },
    {
      "cell_type": "markdown",
      "source": [
        "19. Purpose of __str__ and __repr__ methods in Python:\n",
        "-  __str__ : User-friendly string output\n",
        "- __repr__:\tDebugging and developer use\n"
      ],
      "metadata": {
        "id": "ddE9WwPTQ3YO"
      }
    },
    {
      "cell_type": "markdown",
      "source": [
        "20. Significance of super() in Python:\n",
        "- super() is used to call a method from the parent class, commonly used inside __init__.\n",
        "\n"
      ],
      "metadata": {
        "id": "ug0U4w1-ROYG"
      }
    },
    {
      "cell_type": "code",
      "source": [
        "class B(A):\n",
        "    def __init__(self):\n",
        "        super().__init__()  # calls A's constructor"
      ],
      "metadata": {
        "id": "4AzAWiL5RXGa"
      },
      "execution_count": 13,
      "outputs": []
    },
    {
      "cell_type": "markdown",
      "source": [
        "21. Significance of __del__ method in Python:\n",
        "- Called when an object is about to be destroyed (destructor).\n",
        "\n"
      ],
      "metadata": {
        "id": "2IdMb0IsRcul"
      }
    },
    {
      "cell_type": "code",
      "source": [
        "def __del__(self):\n",
        "    print(\"Object destroyed\")"
      ],
      "metadata": {
        "id": "1N0faunKRiVL"
      },
      "execution_count": 14,
      "outputs": []
    },
    {
      "cell_type": "markdown",
      "source": [
        "22. Difference between @staticmethod and @classmethod:\n",
        "-\n",
        "A @staticmethod is a method bound to the class, but it does not take self or cls as its first argument. It behaves like a regular function, but is placed inside a class for logical grouping.\n",
        "\n",
        "Purpose :\n",
        " To define a utility or helper method that doesn’t access or modify class or instance-specific data.\n",
        "\n",
        "Key Characteristics:\n",
        "\n",
        "- Cannot access instance (self) or class (cls) variables.\n",
        "\n",
        "- Acts like a plain function inside a class.\n",
        "\n",
        "- Called on class or instance, but no internal state is accessed.\n",
        "\n",
        "Use Case :\n",
        "Use it when the method logically belongs to the class but does not need class or instance context.\n",
        "\n",
        "-  @classmethod\n",
        "\n",
        "A @classmethod is a method that receives the class (cls) as its first argument, not the instance. It is bound to the class, not the object.\n",
        "\n",
        "- Purpose:\n",
        "To define methods that operate on the class itself — for example, to create new instances, modify class-level data, or implement alternate constructors.\n",
        "\n",
        "Key Characteristics:\n",
        "\n",
        "  - Can access and modify class-level attributes.\n",
        "\n",
        "  - Commonly used to implement factory methods.\n",
        "\n",
        "  - Can be called from both the class and its instances.\n",
        "\n",
        "Use Case :\n",
        "Use it when a method needs to access or modify the class state."
      ],
      "metadata": {
        "id": "AVoolCaTRoKE"
      }
    },
    {
      "cell_type": "markdown",
      "source": [
        "23. How does polymorphism work in Python with inheritance?\n",
        "- When a child class overrides a method, and we can use a common interface to call that method.\n"
      ],
      "metadata": {
        "id": "yLHmTqH0S6J5"
      }
    },
    {
      "cell_type": "code",
      "source": [
        "class Shape:\n",
        "    def draw(self):\n",
        "        print(\"Drawing Shape\")\n",
        "\n",
        "class Circle(Shape):\n",
        "    def draw(self):\n",
        "        print(\"Drawing Circle\")\n",
        "\n",
        "def render(shape):\n",
        "    shape.draw()  # Polymorphic call"
      ],
      "metadata": {
        "id": "LTTbdA_FTA5r"
      },
      "execution_count": 15,
      "outputs": []
    },
    {
      "cell_type": "markdown",
      "source": [
        "24. What is method chaining in Python OOP?\n",
        "- Calling multiple methods on the same object in a single line by returning self."
      ],
      "metadata": {
        "id": "a7It4_KETCpq"
      }
    },
    {
      "cell_type": "code",
      "source": [
        "class Builder:\n",
        "    def step1(self):\n",
        "        print(\"Step 1\")\n",
        "        return self\n",
        "\n",
        "    def step2(self):\n",
        "        print(\"Step 2\")\n",
        "        return self\n",
        "\n",
        "b = Builder().step1().step2()\n"
      ],
      "metadata": {
        "colab": {
          "base_uri": "https://localhost:8080/"
        },
        "id": "mxpQRz1KTHrA",
        "outputId": "267450a6-0c9b-4d8f-ddff-737f9d029eda"
      },
      "execution_count": 16,
      "outputs": [
        {
          "output_type": "stream",
          "name": "stdout",
          "text": [
            "Step 1\n",
            "Step 2\n"
          ]
        }
      ]
    },
    {
      "cell_type": "markdown",
      "source": [
        " 25. Purpose of __call__ method in Python:\n",
        "- Allows an object to be called like a function."
      ],
      "metadata": {
        "id": "f8a1B5L8TKJn"
      }
    },
    {
      "cell_type": "code",
      "source": [
        "class MyFunc:\n",
        "    def __call__(self, x):\n",
        "        return x * x\n",
        "\n",
        "obj = MyFunc()\n",
        "print(obj(5))  # behaves like a function\n"
      ],
      "metadata": {
        "colab": {
          "base_uri": "https://localhost:8080/"
        },
        "id": "YARB2j0RTNj1",
        "outputId": "cd4518fa-5eb2-4b45-fd35-0c1b710a5a34"
      },
      "execution_count": 17,
      "outputs": [
        {
          "output_type": "stream",
          "name": "stdout",
          "text": [
            "25\n"
          ]
        }
      ]
    },
    {
      "cell_type": "markdown",
      "source": [
        "# Practical questions :"
      ],
      "metadata": {
        "id": "PxQIZHPZTSHy"
      }
    },
    {
      "cell_type": "markdown",
      "source": [
        "1. Create a parent class Animal with a method speak() that prints a generic message. Create a child class Dog that overrides the speak() method to print \"Bark!\"."
      ],
      "metadata": {
        "id": "H75xWsstTWs9"
      }
    },
    {
      "cell_type": "code",
      "source": [
        "class Animal:\n",
        "    def speak(self):\n",
        "        print(\"Animal makes a sound\")\n",
        "\n",
        "class Dog(Animal):\n",
        "    def speak(self):\n",
        "        print(\"Bark!\")\n",
        "\n",
        "# Example\n",
        "a = Animal()\n",
        "a.speak()\n",
        "\n",
        "d = Dog()\n",
        "d.speak()\n"
      ],
      "metadata": {
        "colab": {
          "base_uri": "https://localhost:8080/"
        },
        "id": "m6NBTlK5VH5c",
        "outputId": "0dac0584-9d50-42f6-fdc8-fc61daee4afe"
      },
      "execution_count": 18,
      "outputs": [
        {
          "output_type": "stream",
          "name": "stdout",
          "text": [
            "Animal makes a sound\n",
            "Bark!\n"
          ]
        }
      ]
    },
    {
      "cell_type": "markdown",
      "source": [
        "2. Write a program to create an abstract class Shape with a method area(). Derive classes Circle and Rectangle from it and implement the area() method in both."
      ],
      "metadata": {
        "id": "2XJtG9uqVK5I"
      }
    },
    {
      "cell_type": "code",
      "source": [
        "from abc import ABC, abstractmethod\n",
        "\n",
        "class Shape(ABC):\n",
        "    @abstractmethod\n",
        "    def area(self):\n",
        "        pass\n",
        "\n",
        "class Circle(Shape):\n",
        "    def __init__(self, radius):\n",
        "        self.radius = radius\n",
        "\n",
        "    def area(self):\n",
        "        return 3.14 * self.radius ** 2\n",
        "\n",
        "class Rectangle(Shape):\n",
        "    def __init__(self, length, width):\n",
        "        self.length = length\n",
        "        self.width = width\n",
        "\n",
        "    def area(self):\n",
        "        return self.length * self.width\n",
        "\n",
        "# Example\n",
        "c = Circle(5)\n",
        "print(\"Circle Area:\", c.area())\n",
        "\n",
        "r = Rectangle(4, 6)\n",
        "print(\"Rectangle Area:\", r.area())\n"
      ],
      "metadata": {
        "colab": {
          "base_uri": "https://localhost:8080/"
        },
        "id": "v3vNTOfiVOcO",
        "outputId": "3ce7fd57-45e5-4248-d4a9-32a03c5c6e7b"
      },
      "execution_count": 19,
      "outputs": [
        {
          "output_type": "stream",
          "name": "stdout",
          "text": [
            "Circle Area: 78.5\n",
            "Rectangle Area: 24\n"
          ]
        }
      ]
    },
    {
      "cell_type": "markdown",
      "source": [
        "3. Implement a multi-level inheritance scenario where a class Vehicle has an attribute type. Derive a class Car and further derive a class ElectricCar that adds a battery attribute.\n",
        "\n"
      ],
      "metadata": {
        "id": "6EHTWTqlVRCW"
      }
    },
    {
      "cell_type": "code",
      "source": [
        "class Vehicle:\n",
        "    def __init__(self, type):\n",
        "        self.type = type\n",
        "\n",
        "class Car(Vehicle):\n",
        "    def __init__(self, type, brand):\n",
        "        super().__init__(type)\n",
        "        self.brand = brand\n",
        "\n",
        "class ElectricCar(Car):\n",
        "    def __init__(self, type, brand, battery):\n",
        "        super().__init__(type, brand)\n",
        "        self.battery = battery\n",
        "\n",
        "# Example\n",
        "e = ElectricCar(\"Four Wheeler\", \"Tesla\", \"100 kWh\")\n",
        "print(e.type, e.brand, e.battery)\n"
      ],
      "metadata": {
        "colab": {
          "base_uri": "https://localhost:8080/"
        },
        "id": "BLFKzWFPVUjG",
        "outputId": "9986a789-258b-48b1-827a-111b5c692208"
      },
      "execution_count": 20,
      "outputs": [
        {
          "output_type": "stream",
          "name": "stdout",
          "text": [
            "Four Wheeler Tesla 100 kWh\n"
          ]
        }
      ]
    },
    {
      "cell_type": "markdown",
      "source": [
        "4. Demonstrate polymorphism by creating a base class Bird with a method fly(). Create two derived classes Sparrow and Penguin that override the fly() method.\n",
        "\n"
      ],
      "metadata": {
        "id": "qwmlXwDJVXb_"
      }
    },
    {
      "cell_type": "code",
      "source": [
        "class Bird:\n",
        "    def fly(self):\n",
        "        print(\"Some birds can fly\")\n",
        "\n",
        "class Sparrow(Bird):\n",
        "    def fly(self):\n",
        "        print(\"Sparrow flies high!\")\n",
        "\n",
        "class Penguin(Bird):\n",
        "    def fly(self):\n",
        "        print(\"Penguins cannot fly\")\n",
        "\n",
        "# Example\n",
        "birds = [Sparrow(), Penguin()]\n",
        "for bird in birds:\n",
        "    bird.fly()\n"
      ],
      "metadata": {
        "colab": {
          "base_uri": "https://localhost:8080/"
        },
        "id": "IfglB6t-VaV6",
        "outputId": "769342cf-2bcc-4fe5-8736-2be16eb5dabf"
      },
      "execution_count": 21,
      "outputs": [
        {
          "output_type": "stream",
          "name": "stdout",
          "text": [
            "Sparrow flies high!\n",
            "Penguins cannot fly\n"
          ]
        }
      ]
    },
    {
      "cell_type": "markdown",
      "source": [
        "5. Write a program to demonstrate encapsulation by creating a class BankAccount with private attributes balance and methods to deposit, withdraw, and check balance."
      ],
      "metadata": {
        "id": "qlwRkGHSVdTO"
      }
    },
    {
      "cell_type": "code",
      "source": [
        "class BankAccount:\n",
        "    def __init__(self):\n",
        "        self.__balance = 0\n",
        "\n",
        "    def deposit(self, amount):\n",
        "        if amount > 0:\n",
        "            self.__balance += amount\n",
        "\n",
        "    def withdraw(self, amount):\n",
        "        if 0 < amount <= self.__balance:\n",
        "            self.__balance -= amount\n",
        "\n",
        "    def get_balance(self):\n",
        "        return self.__balance\n",
        "\n",
        "# Example\n",
        "acc = BankAccount()\n",
        "acc.deposit(1000)\n",
        "acc.withdraw(400)\n",
        "print(\"Balance:\", acc.get_balance())\n"
      ],
      "metadata": {
        "colab": {
          "base_uri": "https://localhost:8080/"
        },
        "id": "Zpw2AyE1VhvF",
        "outputId": "a18903c2-e0eb-49aa-a985-9fbeb4be36fb"
      },
      "execution_count": 22,
      "outputs": [
        {
          "output_type": "stream",
          "name": "stdout",
          "text": [
            "Balance: 600\n"
          ]
        }
      ]
    },
    {
      "cell_type": "markdown",
      "source": [
        "6. Demonstrate runtime polymorphism using a method play() in a base class Instrument. Derive classes Guitar and Piano that implement their own version of play()."
      ],
      "metadata": {
        "id": "MOPRTiz6Vl6i"
      }
    },
    {
      "cell_type": "code",
      "source": [
        "class Instrument:\n",
        "    def play(self):\n",
        "        print(\"Playing an instrument\")\n",
        "\n",
        "class Guitar(Instrument):\n",
        "    def play(self):\n",
        "        print(\"Playing Guitar\")\n",
        "\n",
        "class Piano(Instrument):\n",
        "    def play(self):\n",
        "        print(\"Playing Piano\")\n",
        "\n",
        "# Example\n",
        "instruments = [Guitar(), Piano()]\n",
        "for inst in instruments:\n",
        "    inst.play()\n"
      ],
      "metadata": {
        "colab": {
          "base_uri": "https://localhost:8080/"
        },
        "id": "L6OxeGyHVsUd",
        "outputId": "964823c2-8a1d-4438-ac37-135f6ad9f47c"
      },
      "execution_count": 23,
      "outputs": [
        {
          "output_type": "stream",
          "name": "stdout",
          "text": [
            "Playing Guitar\n",
            "Playing Piano\n"
          ]
        }
      ]
    },
    {
      "cell_type": "markdown",
      "source": [
        "7. Create a class MathOperations with a class method add_numbers() to add two numbers and a static method subtract_numbers() to subtract two numbers."
      ],
      "metadata": {
        "id": "a5je1CgDVuFt"
      }
    },
    {
      "cell_type": "code",
      "source": [
        "class MathOperations:\n",
        "    @classmethod\n",
        "    def add_numbers(cls, a, b):\n",
        "        return a + b\n",
        "\n",
        "    @staticmethod\n",
        "    def subtract_numbers(a, b):\n",
        "        return a - b\n",
        "\n",
        "# Example\n",
        "print(\"Addition:\", MathOperations.add_numbers(10, 5))\n",
        "print(\"Subtraction:\", MathOperations.subtract_numbers(10, 5))\n"
      ],
      "metadata": {
        "colab": {
          "base_uri": "https://localhost:8080/"
        },
        "id": "yTz_VlrAVwyJ",
        "outputId": "03bde5cb-80de-4042-ab56-20cd4d2e9218"
      },
      "execution_count": 24,
      "outputs": [
        {
          "output_type": "stream",
          "name": "stdout",
          "text": [
            "Addition: 15\n",
            "Subtraction: 5\n"
          ]
        }
      ]
    },
    {
      "cell_type": "markdown",
      "source": [
        "8. Implement a class Person with a class method to count the total number of persons created."
      ],
      "metadata": {
        "id": "gqsO2KR_VzNk"
      }
    },
    {
      "cell_type": "code",
      "source": [
        "class Person:\n",
        "    count = 0\n",
        "\n",
        "    def __init__(self, name):\n",
        "        self.name = name\n",
        "        Person.count += 1\n",
        "\n",
        "    @classmethod\n",
        "    def total_persons(cls):\n",
        "        return cls.count\n",
        "\n",
        "# Example\n",
        "p1 = Person(\"Alice\")\n",
        "p2 = Person(\"Bob\")\n",
        "print(\"Total Persons:\", Person.total_persons())\n"
      ],
      "metadata": {
        "colab": {
          "base_uri": "https://localhost:8080/"
        },
        "id": "nXvr_PsDV1Iw",
        "outputId": "9bf7bb57-97bb-4d57-9f92-61e4d573f311"
      },
      "execution_count": 25,
      "outputs": [
        {
          "output_type": "stream",
          "name": "stdout",
          "text": [
            "Total Persons: 2\n"
          ]
        }
      ]
    },
    {
      "cell_type": "markdown",
      "source": [
        " 9. Write a class Fraction with attributes numerator and denominator. Override the str method to display the fraction as \"numerator/denominator\"."
      ],
      "metadata": {
        "id": "VqzHXu4AWV19"
      }
    },
    {
      "cell_type": "code",
      "source": [
        "class Fraction:\n",
        "    def __init__(self, numerator, denominator):\n",
        "        self.numerator = numerator\n",
        "        self.denominator = denominator\n",
        "\n",
        "    def __str__(self):\n",
        "        return f\"{self.numerator}/{self.denominator}\"\n",
        "\n",
        "# Example\n",
        "f = Fraction(3, 4)\n",
        "print(f)\n"
      ],
      "metadata": {
        "colab": {
          "base_uri": "https://localhost:8080/"
        },
        "id": "eGHQt56sWZbK",
        "outputId": "d92fc569-8aa6-4073-b973-5f82ce929915"
      },
      "execution_count": 26,
      "outputs": [
        {
          "output_type": "stream",
          "name": "stdout",
          "text": [
            "3/4\n"
          ]
        }
      ]
    },
    {
      "cell_type": "markdown",
      "source": [
        " 10. Demonstrate operator overloading by creating a class Vector and overriding the add method to add two vectors."
      ],
      "metadata": {
        "id": "5VQV_bw_Wckb"
      }
    },
    {
      "cell_type": "code",
      "source": [
        "class Vector:\n",
        "    def __init__(self, x, y):\n",
        "        self.x = x\n",
        "        self.y = y\n",
        "\n",
        "    def __add__(self, other):\n",
        "        return Vector(self.x + other.x, self.y + other.y)\n",
        "\n",
        "    def __str__(self):\n",
        "        return f\"({self.x}, {self.y})\"\n",
        "\n",
        "# Example\n",
        "v1 = Vector(2, 3)\n",
        "v2 = Vector(4, 5)\n",
        "v3 = v1 + v2\n",
        "print(\"Added Vector:\", v3)\n"
      ],
      "metadata": {
        "colab": {
          "base_uri": "https://localhost:8080/"
        },
        "id": "Dcu8P09VWjFl",
        "outputId": "f142f12d-6230-4cb0-f52b-8345e8b7a6fa"
      },
      "execution_count": 28,
      "outputs": [
        {
          "output_type": "stream",
          "name": "stdout",
          "text": [
            "Added Vector: (6, 8)\n"
          ]
        }
      ]
    },
    {
      "cell_type": "markdown",
      "source": [
        "11. Create a class Person with attributes name and age. Add a method greet() that prints \"Hello, my name is {name} and I am {age} years old.\""
      ],
      "metadata": {
        "id": "DNo-Hl3YWlH0"
      }
    },
    {
      "cell_type": "code",
      "source": [
        "class Person:\n",
        "    def __init__(self, name, age):\n",
        "        self.name = name\n",
        "        self.age = age\n",
        "\n",
        "    def greet(self):\n",
        "        print(f\"Hello, my name is {self.name} and I am {self.age} years old.\")\n",
        "\n",
        "# Example\n",
        "p = Person(\"Priya\", 25)\n",
        "p.greet()\n"
      ],
      "metadata": {
        "colab": {
          "base_uri": "https://localhost:8080/"
        },
        "id": "cwUashhaWs2k",
        "outputId": "0ce2e0b7-1dac-4554-8a79-a55d4dbe780f"
      },
      "execution_count": 27,
      "outputs": [
        {
          "output_type": "stream",
          "name": "stdout",
          "text": [
            "Hello, my name is Priya and I am 25 years old.\n"
          ]
        }
      ]
    },
    {
      "cell_type": "markdown",
      "source": [
        "12. Implement a class Student with attributes name and grades. Create a method average_grade() to compute the average of the grades"
      ],
      "metadata": {
        "id": "Xwaat_2bW7or"
      }
    },
    {
      "cell_type": "code",
      "source": [
        "class Student:\n",
        "    def __init__(self, name, grades):\n",
        "        self.name = name\n",
        "        self.grades = grades\n",
        "\n",
        "    def average_grade(self):\n",
        "        return sum(self.grades) / len(self.grades)\n",
        "\n",
        "# Example\n",
        "s = Student(\"Ravi\", [85, 90, 78])\n",
        "print(\"Average Grade:\", s.average_grade())\n"
      ],
      "metadata": {
        "colab": {
          "base_uri": "https://localhost:8080/"
        },
        "id": "trMkxgwdXAUa",
        "outputId": "d2ef7798-51f6-4536-92e1-02318ea1a25f"
      },
      "execution_count": 29,
      "outputs": [
        {
          "output_type": "stream",
          "name": "stdout",
          "text": [
            "Average Grade: 84.33333333333333\n"
          ]
        }
      ]
    },
    {
      "cell_type": "markdown",
      "source": [
        "13. Create a class Rectangle with methods set_dimensions() to set the dimensions and area() to calculate the area."
      ],
      "metadata": {
        "id": "J0r9OH20XFjy"
      }
    },
    {
      "cell_type": "code",
      "source": [
        "class Rectangle:\n",
        "    def set_dimensions(self, length, width):\n",
        "        self.length = length\n",
        "        self.width = width\n",
        "\n",
        "    def area(self):\n",
        "        return self.length * self.width\n",
        "\n",
        "# Example\n",
        "r = Rectangle()\n",
        "r.set_dimensions(5, 4)\n",
        "print(\"Area of Rectangle:\", r.area())\n"
      ],
      "metadata": {
        "id": "EuUaeeImXHx9"
      },
      "execution_count": null,
      "outputs": []
    },
    {
      "cell_type": "markdown",
      "source": [
        "14. Create a class Employee with a method calculate_salary() that computes the salary based on hours worked and hourly rate. Create a derived class Manager that adds a bonus to the salary.\n"
      ],
      "metadata": {
        "id": "Ff1WpOnMXKjX"
      }
    },
    {
      "cell_type": "code",
      "source": [
        "class Employee:\n",
        "    def calculate_salary(self, hours, rate):\n",
        "        return hours * rate\n",
        "\n",
        "class Manager(Employee):\n",
        "    def calculate_salary(self, hours, rate, bonus):\n",
        "        base = super().calculate_salary(hours, rate)\n",
        "        return base + bonus\n",
        "\n",
        "# Example\n",
        "m = Manager()\n",
        "print(\"Manager Salary:\", m.calculate_salary(40, 200, 5000))\n"
      ],
      "metadata": {
        "colab": {
          "base_uri": "https://localhost:8080/"
        },
        "id": "kCtaT1aHXPYN",
        "outputId": "86b3a857-6247-4759-f451-e33cbeda2382"
      },
      "execution_count": 30,
      "outputs": [
        {
          "output_type": "stream",
          "name": "stdout",
          "text": [
            "Manager Salary: 13000\n"
          ]
        }
      ]
    },
    {
      "cell_type": "markdown",
      "source": [
        "15. Create a class Product with attributes name, price, and quantity. Implement a method total_price() that calculates the total price of the product."
      ],
      "metadata": {
        "id": "EOMzfqK8XoBg"
      }
    },
    {
      "cell_type": "code",
      "source": [
        "class Product:\n",
        "    def __init__(self, name, price, quantity):\n",
        "        self.name = name\n",
        "        self.price = price\n",
        "        self.quantity = quantity\n",
        "\n",
        "    def total_price(self):\n",
        "        return self.price * self.quantity\n",
        "\n",
        "# Example\n",
        "p = Product(\"Laptop\", 50000, 2)\n",
        "print(\"Total Price:\", p.total_price())\n"
      ],
      "metadata": {
        "colab": {
          "base_uri": "https://localhost:8080/"
        },
        "id": "nE_sJ9A_Xzq5",
        "outputId": "86f34354-ae11-4115-831a-93c09ce6a8ef"
      },
      "execution_count": 31,
      "outputs": [
        {
          "output_type": "stream",
          "name": "stdout",
          "text": [
            "Total Price: 100000\n"
          ]
        }
      ]
    },
    {
      "cell_type": "markdown",
      "source": [
        " 16. Create a class Animal with an abstract method sound(). Create two derived classes Cow and Sheep that implement the sound() method"
      ],
      "metadata": {
        "id": "c6X-Li7gX1rg"
      }
    },
    {
      "cell_type": "code",
      "source": [
        "from abc import ABC, abstractmethod\n",
        "\n",
        "class Animal(ABC):\n",
        "    @abstractmethod\n",
        "    def sound(self):\n",
        "        pass\n",
        "\n",
        "class Cow(Animal):\n",
        "    def sound(self):\n",
        "        return \"Moo\"\n",
        "\n",
        "class Sheep(Animal):\n",
        "    def sound(self):\n",
        "        return \"Baa\"\n",
        "\n",
        "# Example\n",
        "c = Cow()\n",
        "s = Sheep()\n",
        "print(\"Cow sound:\", c.sound())\n",
        "print(\"Sheep sound:\", s.sound())\n"
      ],
      "metadata": {
        "colab": {
          "base_uri": "https://localhost:8080/"
        },
        "id": "zD8ixO_IX6Nm",
        "outputId": "95728c5b-1437-4764-df04-3b3f65f67eaa"
      },
      "execution_count": 32,
      "outputs": [
        {
          "output_type": "stream",
          "name": "stdout",
          "text": [
            "Cow sound: Moo\n",
            "Sheep sound: Baa\n"
          ]
        }
      ]
    },
    {
      "cell_type": "markdown",
      "source": [
        "17. Create a class Book with attributes title, author, and year_published. Add a method get_book_info() that returns a formatted string with the book's details."
      ],
      "metadata": {
        "id": "ETv5LppqX9Q6"
      }
    },
    {
      "cell_type": "code",
      "source": [
        "class Book:\n",
        "    def __init__(self, title, author, year_published):\n",
        "        self.title = title\n",
        "        self.author = author\n",
        "        self.year_published = year_published\n",
        "\n",
        "    def get_book_info(self):\n",
        "        return f\"'{self.title}' by {self.author} (Published: {self.year_published})\"\n",
        "\n",
        "# Example\n",
        "b = Book(\"To Kill a Mockingbird\", \"Harper Lee\", 1960)\n",
        "print(b.get_book_info())\n"
      ],
      "metadata": {
        "colab": {
          "base_uri": "https://localhost:8080/"
        },
        "id": "DOILSnpLX-BE",
        "outputId": "92f58821-24a7-4f13-8e69-c806a25d614a"
      },
      "execution_count": 33,
      "outputs": [
        {
          "output_type": "stream",
          "name": "stdout",
          "text": [
            "'To Kill a Mockingbird' by Harper Lee (Published: 1960)\n"
          ]
        }
      ]
    },
    {
      "cell_type": "markdown",
      "source": [
        "18. Create a class House with attributes address and price. Create a derived class Mansion that adds an attribute number_of_rooms."
      ],
      "metadata": {
        "id": "oHPu-MbpYC6n"
      }
    },
    {
      "cell_type": "code",
      "source": [
        "class House:\n",
        "    def __init__(self, address, price):\n",
        "        self.address = address\n",
        "        self.price = price\n",
        "\n",
        "class Mansion(House):\n",
        "    def __init__(self, address, price, number_of_rooms):\n",
        "        super().__init__(address, price)\n",
        "        self.number_of_rooms = number_of_rooms\n",
        "\n",
        "# Example\n",
        "m = Mansion(\"123 Luxury St\", 5000000, 10)\n",
        "print(f\"Address: {m.address}, Price: {m.price}, Rooms: {m.number_of_rooms}\")\n"
      ],
      "metadata": {
        "colab": {
          "base_uri": "https://localhost:8080/"
        },
        "id": "AjhK2Q4xYE0O",
        "outputId": "5f479eec-2f0a-4c0c-89c4-904f23b9a475"
      },
      "execution_count": 34,
      "outputs": [
        {
          "output_type": "stream",
          "name": "stdout",
          "text": [
            "Address: 123 Luxury St, Price: 5000000, Rooms: 10\n"
          ]
        }
      ]
    }
  ]
}